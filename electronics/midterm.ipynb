{
 "cells": [
  {
   "cell_type": "code",
   "execution_count": 4,
   "metadata": {},
   "outputs": [
    {
     "name": "stdout",
     "output_type": "stream",
     "text": [
      "The equivalent parallel resistance is: 54.55 ohms\n"
     ]
    }
   ],
   "source": [
    "def parallel_resistance(*resistors):\n",
    "    \"\"\"\n",
    "    Calculate the equivalent resistance of resistors in parallel.\n",
    "\n",
    "    Parameters:\n",
    "        resistors (*args): Resistor values in ohms as separate arguments or a list/tuple.\n",
    "\n",
    "    Returns:\n",
    "        float: Equivalent parallel resistance in ohms.\n",
    "        If no resistors are given, returns None.\n",
    "    \"\"\"\n",
    "    if not resistors:\n",
    "        return None\n",
    "\n",
    "    # Flatten input in case a list/tuple is provided\n",
    "    if len(resistors) == 1 and isinstance(resistors[0], (list, tuple)):\n",
    "        resistors = resistors[0]\n",
    "\n",
    "    try:\n",
    "        # Calculate the reciprocal of the equivalent resistance\n",
    "        reciprocal_sum = sum(1 / r for r in resistors if r != 0)\n",
    "        return float('inf') if reciprocal_sum == 0 else 1 / reciprocal_sum\n",
    "    except TypeError:\n",
    "        raise ValueError(\"All resistor values must be numbers.\")\n",
    "\n",
    "# Example usage\n",
    "if __name__ == \"__main__\":\n",
    "    resistors = [100, 200, 300]  # List of resistor values in ohms\n",
    "    result = parallel_resistance(resistors)\n",
    "    print(f\"The equivalent parallel resistance is: {result:.2f} ohms\")"
   ]
  },
  {
   "cell_type": "code",
   "execution_count": 6,
   "metadata": {},
   "outputs": [
    {
     "data": {
      "text/plain": [
       "10000.0"
      ]
     },
     "execution_count": 6,
     "metadata": {},
     "output_type": "execute_result"
    }
   ],
   "source": [
    "import numpy as np\n",
    "\n",
    "lambda_ = 0.1\n",
    "ID = 0.5 * 10**-3 # A\n",
    "\n",
    "rop = 1/ (lambda_ * ID)\n",
    "ron = rop\n",
    "\n",
    "rout = parallel_resistance(rop, ron)\n",
    "rout"
   ]
  },
  {
   "cell_type": "code",
   "execution_count": 9,
   "metadata": {},
   "outputs": [
    {
     "data": {
      "text/plain": [
       "0.011180339887498949"
      ]
     },
     "execution_count": 9,
     "metadata": {},
     "output_type": "execute_result"
    }
   ],
   "source": [
    "uncox = 500 * 10**-6 # A/V^2\n",
    "wl = 250\n",
    "\n",
    "gm1 = np.sqrt(2 * uncox * wl * ID)\n",
    "gm1"
   ]
  },
  {
   "cell_type": "code",
   "execution_count": 11,
   "metadata": {},
   "outputs": [
    {
     "data": {
      "text/plain": [
       "-111.80339887498948"
      ]
     },
     "execution_count": 11,
     "metadata": {},
     "output_type": "execute_result"
    }
   ],
   "source": [
    "gain = - gm1 * rout\n",
    "gain"
   ]
  },
  {
   "cell_type": "code",
   "execution_count": 18,
   "metadata": {},
   "outputs": [
    {
     "name": "stdout",
     "output_type": "stream",
     "text": [
      "gm2: 0.06324555320336758\n",
      "gm3: 0.022360679774997897\n",
      "ro1: 5000.0\n",
      "ro2: 5000.0\n",
      "rop: 1591138.8300841895\n",
      "ron: 5000.0\n",
      "rout: 4984.3372020473425\n",
      "gain: -111.45316806558962\n"
     ]
    }
   ],
   "source": [
    "upcox = 250 * 10**-6 # A/V^2\n",
    "\n",
    "ID = 2 * 10**-3 # A\n",
    "wl3 = 250\n",
    "wl1 = 4000\n",
    "\n",
    "gm2 = np.sqrt(2 * upcox * wl1 * ID)\n",
    "gm3 = np.sqrt(2 * uncox * wl3 * ID)\n",
    "ro1 = 1 / (lambda_ * ID)\n",
    "ro2 = ro1\n",
    "rop = (1 + gm2 * ro1) * ro2 + ro1\n",
    "ron = 1 / (lambda_ * ID)\n",
    "rout = parallel_resistance(rop, ron)\n",
    "gain = - gm3 * rout\n",
    "\n",
    "print(\"gm2:\", gm2)\n",
    "print(\"gm3:\", gm3)\n",
    "print(\"ro1:\", ro1)\n",
    "print(\"ro2:\", ro2)\n",
    "print(\"rop:\", rop)\n",
    "print(\"ron:\", ron)\n",
    "print(\"rout:\", rout)\n",
    "print(\"gain:\", gain)"
   ]
  },
  {
   "cell_type": "code",
   "execution_count": 20,
   "metadata": {},
   "outputs": [
    {
     "data": {
      "text/plain": [
       "0.002"
      ]
     },
     "execution_count": 20,
     "metadata": {},
     "output_type": "execute_result"
    }
   ],
   "source": [
    "wlcp1 = 2000\n",
    "wlrf1 = 100\n",
    "lambda_ = 0.1\n",
    "vdscp1 = .25 \n",
    "vdsrf1 = .25\n",
    "iref = 100 * 10**-6\n",
    "\n",
    "icp1 = (wlcp1 * (1 + lambda_ * vdscp1)) / (wlrf1 * (1 + lambda_ * vdsrf1)) * iref\n",
    "icp1"
   ]
  }
 ],
 "metadata": {
  "kernelspec": {
   "display_name": "Python 3",
   "language": "python",
   "name": "python3"
  },
  "language_info": {
   "codemirror_mode": {
    "name": "ipython",
    "version": 3
   },
   "file_extension": ".py",
   "mimetype": "text/x-python",
   "name": "python",
   "nbconvert_exporter": "python",
   "pygments_lexer": "ipython3",
   "version": "3.11.9"
  }
 },
 "nbformat": 4,
 "nbformat_minor": 2
}
