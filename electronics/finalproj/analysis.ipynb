{
 "cells": [
  {
   "cell_type": "markdown",
   "metadata": {},
   "source": [
    "# ECE342 Final Project"
   ]
  },
  {
   "cell_type": "markdown",
   "metadata": {},
   "source": [
    "![Differential Pair](fig10_54.png)\n",
    "![Small Signal](fig10_55.png)"
   ]
  },
  {
   "cell_type": "markdown",
   "metadata": {},
   "source": [
    "\n",
    "$$\n",
    "\\frac{v_{\\text{out}}}{v_{\\text{in1}} - v_{\\text{in2}}} = g_{mN} r_{ON} \\cdot \\frac{r_{OP} \\left[ 1 + g_{mP} \\left( \\frac{1}{g_{mP}} \\parallel r_{OP} \\right) \\right]}{2r_{ON} + 2r_{OP}}\n",
    "$$"
   ]
  },
  {
   "cell_type": "code",
   "execution_count": 3,
   "metadata": {},
   "outputs": [],
   "source": [
    "def parallel_impedance(*args):\n",
    "    return 1 / sum(1 / arg for arg in args)"
   ]
  },
  {
   "cell_type": "code",
   "execution_count": 4,
   "metadata": {},
   "outputs": [],
   "source": [
    "def calculate_gain(gmN, rON, gmP, rOP):\n",
    "    parallel_component = parallel_impedance(1 / gmP, rOP)\n",
    "    numerator = rOP * (1 + gmP * parallel_component)\n",
    "    denominator = 2 * rON + 2 * rOP\n",
    "\n",
    "    # Gain\n",
    "    gain = gmN * rON * (numerator / denominator)\n",
    "    approx_gain = gmN * parallel_impedance(rON, rOP)\n",
    "    return gain, approx_gain"
   ]
  },
  {
   "cell_type": "code",
   "execution_count": 5,
   "metadata": {},
   "outputs": [
    {
     "name": "stdout",
     "output_type": "stream",
     "text": [
      "The gain is: 6.585365853658537\n",
      "The approximate gain is: 6.666666666666666\n"
     ]
    }
   ],
   "source": [
    "gmN = 1e-3  # Transconductance of NMOS (in siemens)\n",
    "rON = 10e3  # On resistance of NMOS (in ohms)\n",
    "gmP = 2e-3  # Transconductance of PMOS (in siemens)\n",
    "rOP = 20e3  # On resistance of PMOS (in ohms)\n",
    "\n",
    "# Calculate the gain\n",
    "gain, approx_gain = calculate_gain(gmN, rON, gmP, rOP)\n",
    "print(f\"The gain is: {gain}\")\n",
    "print(f\"The approximate gain is: {approx_gain}\")\n"
   ]
  }
 ],
 "metadata": {
  "kernelspec": {
   "display_name": ".venv",
   "language": "python",
   "name": "python3"
  },
  "language_info": {
   "codemirror_mode": {
    "name": "ipython",
    "version": 3
   },
   "file_extension": ".py",
   "mimetype": "text/x-python",
   "name": "python",
   "nbconvert_exporter": "python",
   "pygments_lexer": "ipython3",
   "version": "3.12.3"
  }
 },
 "nbformat": 4,
 "nbformat_minor": 2
}
