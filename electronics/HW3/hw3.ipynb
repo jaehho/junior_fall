{
 "cells": [
  {
   "cell_type": "code",
   "execution_count": 1,
   "metadata": {},
   "outputs": [],
   "source": [
    "import numpy as np"
   ]
  },
  {
   "cell_type": "code",
   "execution_count": 2,
   "metadata": {},
   "outputs": [],
   "source": [
    "def parallel(*resistances):\n",
    "    return 1 / sum(1/r for r in resistances)"
   ]
  },
  {
   "cell_type": "code",
   "execution_count": 3,
   "metadata": {},
   "outputs": [
    {
     "data": {
      "text/plain": [
       "('3.99e+09', '7.13e+10')"
      ]
     },
     "execution_count": 3,
     "metadata": {},
     "output_type": "execute_result"
    }
   ],
   "source": [
    "# 3-1\n",
    "clm = 0.1\n",
    "CGS = 20 * 10**-15 # F\n",
    "CGD = 10 * 10**-15 # F\n",
    "CDB = 5 * 10**-15 # F\n",
    "I_D = 1 * 10**-3 # A\n",
    "gm = 20 * 10**-3 # S\n",
    "Rs = 1 * 10**3 # Ohm\n",
    "\n",
    "ro = 1 / (clm * I_D)\n",
    "\n",
    "Rout = parallel(1 / gm, ro, ro)\n",
    "Av = - gm * parallel(1 / gm, ro, ro)\n",
    "Cx = CGD * (1 - Av)\n",
    "Cy = CGD * (1 - 1/Av)\n",
    "Cin = Cx + CGS\n",
    "Cout = Cy + CDB + CGS\n",
    "win = 1 / (Rs * Cin)\n",
    "wout = 1 / (Rout * Cout)\n",
    "fin = win / (2 * np.pi)\n",
    "fout = wout / (2 * np.pi)\n",
    "np.format_float_scientific(fin, precision=2), np.format_float_scientific(fout, precision=2)"
   ]
  },
  {
   "cell_type": "code",
   "execution_count": 4,
   "metadata": {},
   "outputs": [
    {
     "data": {
      "text/plain": [
       "('2.12e+07', '8.72e+08')"
      ]
     },
     "execution_count": 4,
     "metadata": {},
     "output_type": "execute_result"
    }
   ],
   "source": [
    "# 3-2\n",
    "Rsig = 100 * 10**3 # Ohm\n",
    "gm = 2 * 10**-3 # S\n",
    "RL = 5 * 10**3 # Ohm\n",
    "ro = 20 * 10**3 # Ohm\n",
    "CL = 40 * 10**-15 # F\n",
    "CGS = 30 * 10**-15 # F\n",
    "CGD = 5 * 10**-15 # F\n",
    "\n",
    "Av = - gm * parallel(ro, RL)\n",
    "Rout = parallel(ro, RL)\n",
    "Cx = CGD * (1 - Av)\n",
    "Cy = CGD * (1 - 1/Av)\n",
    "Cin = Cx + CGS\n",
    "Cout = Cy + CL\n",
    "fin = 1 / (2 * np.pi * Rsig * Cin)\n",
    "fout = 1 / (2 * np.pi * Rout * Cout)\n",
    "np.format_float_scientific(fin, precision=2), np.format_float_scientific(fout, precision=2)"
   ]
  },
  {
   "cell_type": "code",
   "execution_count": 5,
   "metadata": {},
   "outputs": [
    {
     "data": {
      "text/plain": [
       "'5.e+09'"
      ]
     },
     "execution_count": 5,
     "metadata": {},
     "output_type": "execute_result"
    }
   ],
   "source": [
    "# 3-3\n",
    "# (a)\n",
    "CGS = 30 * 10**-15 # F\n",
    "CL = 40 * 10**-15 # F\n",
    "gm = 2 * 10**-3 # S\n",
    "RL = 5 * 10**3 # Ohm\n",
    "\n",
    "w = 1 / (RL * CL)\n",
    "np.format_float_scientific(w, precision=2)"
   ]
  },
  {
   "cell_type": "code",
   "execution_count": 6,
   "metadata": {},
   "outputs": [
    {
     "data": {
      "text/plain": [
       "('4.e+01', '2.86e+09', '5.e+09')"
      ]
     },
     "execution_count": 6,
     "metadata": {},
     "output_type": "execute_result"
    }
   ],
   "source": [
    "# (b)\n",
    "db = 20 * np.log10(gm ** 2 * RL ** 2)\n",
    "w1 = 1 / (RL * (CL + CGS))\n",
    "w2 = 1 / (RL * CL)\n",
    "np.format_float_scientific(db, precision=2), np.format_float_scientific(w1, precision=2), np.format_float_scientific(w2, precision=2)"
   ]
  },
  {
   "cell_type": "code",
   "execution_count": 7,
   "metadata": {},
   "outputs": [
    {
     "data": {
      "text/plain": [
       "('1.62e+08', '1.11e+09')"
      ]
     },
     "execution_count": 7,
     "metadata": {},
     "output_type": "execute_result"
    }
   ],
   "source": [
    "# 3-4\n",
    "PCGS = 80 * 10**-15 # F\n",
    "PCGD = 70 * 10**-15 # F\n",
    "PCDB = 10 * 10**-15 # F\n",
    "NCGS = 50 * 10**-15 # F\n",
    "NCGD = 40 * 10**-15 # F\n",
    "NCDB = 10 * 10**-15 # F\n",
    "gm = 10 * 10**-3 # S\n",
    "Rs = 2 * 10**3 # Ohm\n",
    "\n",
    "Av = -10\n",
    "Cx = NCGD * (1 - Av)\n",
    "Cy = NCGD * (1 - 1/Av)\n",
    "Cin = NCGS + Cx\n",
    "Cout = NCDB + Cy + PCDB + PCGS\n",
    "Rout = np.abs(Av / gm)\n",
    "fin = 1 / (2 * np.pi * Rs * Cin)\n",
    "fout = 1 / (2 * np.pi * Rout * Cout)\n",
    "np.format_float_scientific(fin, precision=2), np.format_float_scientific(fout, precision=2)"
   ]
  },
  {
   "cell_type": "code",
   "execution_count": 8,
   "metadata": {},
   "outputs": [
    {
     "data": {
      "text/plain": [
       "'5.44e-14'"
      ]
     },
     "execution_count": 8,
     "metadata": {},
     "output_type": "execute_result"
    }
   ],
   "source": [
    "# 3-5\n",
    "# Cn = - (1 - Av) / (Cx)\n",
    "Cn = np.abs((Cx + NCGS) / (1 - np.abs(Av)))\n",
    "np.format_float_scientific(Cn, precision=2)"
   ]
  }
 ],
 "metadata": {
  "kernelspec": {
   "display_name": ".venv",
   "language": "python",
   "name": "python3"
  },
  "language_info": {
   "codemirror_mode": {
    "name": "ipython",
    "version": 3
   },
   "file_extension": ".py",
   "mimetype": "text/x-python",
   "name": "python",
   "nbconvert_exporter": "python",
   "pygments_lexer": "ipython3",
   "version": "3.12.3"
  }
 },
 "nbformat": 4,
 "nbformat_minor": 2
}
