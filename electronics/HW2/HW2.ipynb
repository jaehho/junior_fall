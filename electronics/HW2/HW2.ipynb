{
 "cells": [
  {
   "cell_type": "code",
   "execution_count": 8,
   "metadata": {},
   "outputs": [
    {
     "data": {
      "text/plain": [
       "(np.float64(0.7000000000000001), np.float64(0.944948974278318))"
      ]
     },
     "execution_count": 8,
     "metadata": {},
     "output_type": "execute_result"
    }
   ],
   "source": [
    "import numpy as np\n",
    "import sympy as sp\n",
    "\n",
    "I_D = 0.5 * 10**-3 # A\n",
    "u_nC_ox = 100 * 10**-6 # A/V^2\n",
    "V_TH = 0.4 # V\n",
    "lamda = 0.1 # V^-1\n",
    "W__L_M1 = 30 / 0.18\n",
    "W__L_M2 = 20 / 0.18\n",
    "\n",
    "# (a)\n",
    "V_GS2 = V_TH + np.sqrt((2 * I_D) / (u_nC_ox * W__L_M2))\n",
    "V_b2 = V_GS2\n",
    "\n",
    "V_GS1 = V_TH + np.sqrt((2 * I_D) / (u_nC_ox * W__L_M1))\n",
    "V_b1_min = V_GS1 + V_GS2 - V_TH\n",
    "V_b2, V_b1_min\n"
   ]
  },
  {
   "cell_type": "code",
   "execution_count": 9,
   "metadata": {},
   "outputs": [
    {
     "data": {
      "text/plain": [
       "(np.float64(0.004082482904638631),\n",
       " np.float64(1632993.1618554522),\n",
       " np.float64(1672993.1618554522))"
      ]
     },
     "execution_count": 9,
     "metadata": {},
     "output_type": "execute_result"
    }
   ],
   "source": [
    "# (b)\n",
    "r_o1 = 1 / (lamda * I_D)\n",
    "r_o2 = 1 / (lamda * I_D)\n",
    "g_m1 = np.sqrt(2 * u_nC_ox * W__L_M1 * I_D)\n",
    "R_out = g_m1 * r_o1 * r_o2\n",
    "R_out_exact = (1 + g_m1 * r_o2) * r_o1 + r_o2\n",
    "g_m1, R_out, R_out_exact"
   ]
  }
 ],
 "metadata": {
  "kernelspec": {
   "display_name": ".venv",
   "language": "python",
   "name": "python3"
  },
  "language_info": {
   "codemirror_mode": {
    "name": "ipython",
    "version": 3
   },
   "file_extension": ".py",
   "mimetype": "text/x-python",
   "name": "python",
   "nbconvert_exporter": "python",
   "pygments_lexer": "ipython3",
   "version": "3.12.3"
  }
 },
 "nbformat": 4,
 "nbformat_minor": 2
}
