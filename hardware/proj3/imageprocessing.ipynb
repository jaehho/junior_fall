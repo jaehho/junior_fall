{
 "cells": [
  {
   "cell_type": "code",
   "execution_count": 24,
   "metadata": {},
   "outputs": [
    {
     "name": "stdout",
     "output_type": "stream",
     "text": [
      "Total number of frames in the input video: 234\n",
      "Total number of frames in the output video: 78\n",
      "New video saved at output_video.mp4\n"
     ]
    }
   ],
   "source": [
    "import cv2\n",
    "\n",
    "# Input and output file paths\n",
    "input_video_path = \"video.mp4\"\n",
    "output_video_path = \"output_video.mp4\"\n",
    "frame_divisor = 3\n",
    "\n",
    "# Open the input video\n",
    "cap = cv2.VideoCapture(input_video_path)\n",
    "\n",
    "# Get video properties\n",
    "frame_width = int(cap.get(cv2.CAP_PROP_FRAME_WIDTH))\n",
    "frame_height = int(cap.get(cv2.CAP_PROP_FRAME_HEIGHT))\n",
    "fps = int(cap.get(cv2.CAP_PROP_FPS))  # Original FPS\n",
    "total_frames = int(cap.get(cv2.CAP_PROP_FRAME_COUNT))  # Total number of frames in the input\n",
    "fourcc = cv2.VideoWriter_fourcc(*'mp4v')  # Codec for MP4\n",
    "\n",
    "# Define the VideoWriter for output\n",
    "out = cv2.VideoWriter(output_video_path, fourcc, fps / frame_divisor, (frame_width, frame_height))\n",
    "\n",
    "frame_count = 0\n",
    "output_frame_count = 0  # Counter for output frames\n",
    "\n",
    "while True:\n",
    "    ret, frame = cap.read()\n",
    "    if not ret:\n",
    "        break  # End of video\n",
    "\n",
    "    # Write every nth frame to the output video\n",
    "    if frame_count % frame_divisor == 0:\n",
    "        out.write(frame)\n",
    "        output_frame_count += 1  # Increment output frame counter\n",
    "    \n",
    "    frame_count += 1\n",
    "\n",
    "# Release resources\n",
    "cap.release()\n",
    "out.release()\n",
    "\n",
    "# Print total frames\n",
    "print(f\"Total number of frames in the input video: {total_frames}\")\n",
    "print(f\"Total number of frames in the output video: {output_frame_count}\")\n",
    "print(f\"New video saved at {output_video_path}\")\n"
   ]
  },
  {
   "cell_type": "code",
   "execution_count": 17,
   "metadata": {},
   "outputs": [
    {
     "name": "stdout",
     "output_type": "stream",
     "text": [
      "C-style RGB array saved to imageData.h\n"
     ]
    }
   ],
   "source": [
    "import numpy as np\n",
    "from PIL import Image\n",
    "\n",
    "# Function to crop the image to 512x512\n",
    "def crop_image(image, size=(1920, 1080)):\n",
    "    width, height = image.size\n",
    "    left = (width - size[0]) // 2\n",
    "    top = (height - size[1]) // 2\n",
    "    right = left + size[0]\n",
    "    bottom = top + size[1]\n",
    "    return image.crop((left, top, right, bottom))\n",
    "\n",
    "# Load the image\n",
    "image = Image.open('image.jpg')  # Replace 'image.jpg' with your image file\n",
    "image = crop_image(image)  # Crop to 512x512\n",
    "\n",
    "# Convert image to RGB if not already\n",
    "image = image.convert('RGB')\n",
    "image_array = np.array(image)\n",
    "\n",
    "# Create the .h file and write the C-style array\n",
    "with open('imageData.h', 'w') as file:\n",
    "    file.write(\"char imageData[] = {\\n\")\n",
    "    \n",
    "    rows, cols, channels = image_array.shape\n",
    "    for r in range(rows):\n",
    "        for c in range(cols):\n",
    "            # Write RGB values as a triplet for each pixel\n",
    "            r_val, g_val, b_val = image_array[r, c]\n",
    "            file.write(f\"{r_val},{g_val},{b_val},\")\n",
    "        file.write(\"\")  # Newline for readability\n",
    "    file.seek(file.tell() - 2, 0)  # Remove the trailing comma\n",
    "    file.write(\"\\n};\")\n",
    "\n",
    "print(\"C-style RGB array saved to imageData.h\")\n"
   ]
  },
  {
   "cell_type": "code",
   "execution_count": 1,
   "metadata": {},
   "outputs": [
    {
     "data": {
      "application/vnd.jupyter.widget-view+json": {
       "model_id": "e74d1f1cb05740b19dcc606ad4034bbe",
       "version_major": 2,
       "version_minor": 0
      },
      "text/plain": [
       "Processing frames:   0%|          | 0/78 [00:00<?, ?it/s]"
      ]
     },
     "metadata": {},
     "output_type": "display_data"
    },
    {
     "name": "stdout",
     "output_type": "stream",
     "text": [
      "Header file 'video_buffers.h' generated successfully with 78 frames.\n"
     ]
    }
   ],
   "source": [
    "import cv2\n",
    "import numpy as np\n",
    "from tqdm.notebook import tqdm\n",
    "\n",
    "# Output header file name\n",
    "header_file_name = \"video_buffers.h\"\n",
    "\n",
    "# Video input file\n",
    "video_file = \"output_video.mp4\"\n",
    "\n",
    "# Frame dimensions\n",
    "IMAGE_WIDTH = 1920\n",
    "IMAGE_HEIGHT = 1080\n",
    "\n",
    "# Open the video file\n",
    "cap = cv2.VideoCapture(video_file)\n",
    "\n",
    "if not cap.isOpened():\n",
    "    raise IOError(\"Error: Cannot open video file.\")\n",
    "\n",
    "frame_count = 0\n",
    "buffers = []\n",
    "\n",
    "frame_total = int(cap.get(cv2.CAP_PROP_FRAME_COUNT))\n",
    "\n",
    "for _ in range(frame_total):\n",
    "    ret, frame = cap.read()\n",
    "    if not ret:\n",
    "        break  # Exit the loop if no frames are left\n",
    "\n",
    "    # Resize frame to desired dimensions\n",
    "    frame = cv2.resize(frame, (IMAGE_WIDTH, IMAGE_HEIGHT))\n",
    "\n",
    "    # Convert the frame to raw pixel data (flattened array)\n",
    "    raw_data = frame.flatten()\n",
    "\n",
    "    # Add the frame's pixel data to the list\n",
    "    buffers.append(raw_data)\n",
    "    frame_count += 1\n",
    "\n",
    "cap.release()\n",
    "\n",
    "# Write the header file\n",
    "with open(header_file_name, \"w\") as header_file:\n",
    "    header_file.write(\"#ifndef IMAGE_BUFFERS_H\\n\")\n",
    "    header_file.write(\"#define IMAGE_BUFFERS_H\\n\\n\")\n",
    "    header_file.write(f\"#define IMAGE_WIDTH  {IMAGE_WIDTH}\\n\")\n",
    "    header_file.write(f\"#define IMAGE_HEIGHT {IMAGE_HEIGHT}\\n\\n\")\n",
    "\n",
    "    for i, buffer in enumerate(buffers):\n",
    "        header_file.write(f\"unsigned char imageData{i + 1}[IMAGE_WIDTH * IMAGE_HEIGHT * 3] = {{\\n\")\n",
    "        buffer_str = \", \".join(map(str, buffer))\n",
    "        header_file.write(f\"    {buffer_str}\\n\")\n",
    "        header_file.write(\"};\\n\\n\")\n",
    "\n",
    "    header_file.write(\"// Array of pointers to image buffers for convenience\\n\")\n",
    "    image_pointers = \", \".join([f\"imageData{i + 1}\" for i in tqdm(range(frame_count))])\n",
    "    header_file.write(f\"unsigned char *images[] = {{{image_pointers}}};\\n\\n\")\n",
    "\n",
    "    header_file.write(\"#endif // IMAGE_BUFFERS_H\\n\")\n",
    "\n",
    "print(f\"Header file '{header_file_name}' generated successfully with {frame_count} frames.\")\n"
   ]
  }
 ],
 "metadata": {
  "kernelspec": {
   "display_name": ".venv",
   "language": "python",
   "name": "python3"
  },
  "language_info": {
   "codemirror_mode": {
    "name": "ipython",
    "version": 3
   },
   "file_extension": ".py",
   "mimetype": "text/x-python",
   "name": "python",
   "nbconvert_exporter": "python",
   "pygments_lexer": "ipython3",
   "version": "3.12.3"
  }
 },
 "nbformat": 4,
 "nbformat_minor": 2
}
